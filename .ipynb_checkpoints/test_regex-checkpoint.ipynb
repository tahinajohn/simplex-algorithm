{
 "cells": [
  {
   "cell_type": "code",
   "execution_count": 186,
   "id": "5ee8d9f2",
   "metadata": {},
   "outputs": [],
   "source": [
    "import re\n",
    "import numpy as np\n",
    "\n",
    "target_function = \"5*x1 -3*x2\"\n",
    "constraints = \"2*x1 -3*x2 +9*x4 >= 4\\n3*x1 +5*x2 -6*x4 <= 6\\n1*x1 -7*x2 +10*x3 <= 1\"\n",
    "constraint_one_by_one = constraints.split('\\n')\n",
    "\n",
    "pattern = r'([+-]?\\d+)\\s*\\*?\\s*([a-zA-Z0-9]+)\\s*([<>]=?|==)\\s*([+-]?\\d+)'\n",
    "\n",
    "coeff_regex = r'([+-]?\\d+)\\s*\\*?\\s*([a-zA-Z0-9]+)\\s*'\n",
    "signe_regex = r'([<>]=?|==)\\s*([+-]?\\d+)'\n",
    "\n",
    "target_catcher = re.findall(coeff_regex, target_function)\n",
    "target_coeff = [int(match[0]) for match in target_catcher]\n",
    "    \n",
    "print(target_coeff)\n",
    "tab = [1,2,3]\n",
    "target_coeff += [0] * count_sign(signe_tab)\n",
    "\n",
    "print(target_coeff)\n",
    "\n",
    "coeff_tab = []\n",
    "variables_tab = []\n",
    "signe_tab = []\n",
    "const_tab = []"
   ]
  },
  {
   "cell_type": "code",
   "execution_count": null,
   "id": "f07cd75a",
   "metadata": {},
   "outputs": [],
   "source": [
    "def target_standard_form(taget_function):\n",
    "    pass"
   ]
  },
  {
   "cell_type": "code",
   "execution_count": null,
   "id": "5be523fb",
   "metadata": {},
   "outputs": [],
   "source": [
    "def constrain_split(constraints):\n",
    "    constraint_one_by_one = constraints.split('\\n')\n",
    "    coeff_regex = r'([+-]?\\d+)\\s*\\*?\\s*([a-zA-Z0-9]+)\\s*'\n",
    "    signe_regex = r'([<>]=?|==)\\s*([+-]?\\d+)'\n",
    "    coeff_tab = []\n",
    "    variables_tab = []\n",
    "    signe_tab = []\n",
    "    const_tab = []\n",
    "    \n",
    "    for constraint in constraint_one_by_one:\n",
    "        coeff_catcher = re.findall(coeff_regex, constraint)\n",
    "        signe_catcher = re.findall(signe_regex, constraint)\n",
    "        coefficients = [int(match[0]) for match in coeff_catcher]\n",
    "        variables = [match[1] for match in coeff_catcher]\n",
    "        coeff_tab.append(coefficients)\n",
    "        variables_tab.append(variables)\n",
    "        signe = [match[0] for match in signe_catcher]\n",
    "        #signe = signe_catcher[0]\n",
    "\n",
    "        constant = [int(match[1]) for match in signe_catcher]\n",
    "        signe_tab.append(signe)\n",
    "        const_tab.append(constant)\n",
    "        \n",
    "    output = {\n",
    "        \"coefficients\": coeff_tab,\n",
    "        \"variables\": variables_tab,\n",
    "        \"signes\": signe_tab,\n",
    "        \"constantes\": const_tab\n",
    "    }\n",
    "    "
   ]
  },
  {
   "cell_type": "code",
   "execution_count": null,
   "id": "991d1a04",
   "metadata": {},
   "outputs": [],
   "source": []
  },
  {
   "cell_type": "code",
   "execution_count": 187,
   "id": "717589fd",
   "metadata": {},
   "outputs": [],
   "source": [
    "for constraint in constraint_one_by_one:\n",
    "    coeff_catcher = re.findall(coeff_regex, constraint)\n",
    "    signe_catcher = re.findall(signe_regex, constraint)\n",
    "    coefficients = [int(match[0]) for match in coeff_catcher]\n",
    "    variables = [match[1] for match in coeff_catcher]\n",
    "    coeff_tab.append(coefficients)\n",
    "    variables_tab.append(variables)\n",
    "    signe = [match[0] for match in signe_catcher]\n",
    "    #signe = signe_catcher[0]\n",
    "\n",
    "    constant = [int(match[1]) for match in signe_catcher]\n",
    "    signe_tab.append(signe)\n",
    "    const_tab.append(constant)"
   ]
  },
  {
   "cell_type": "code",
   "execution_count": 188,
   "id": "9afc05ee",
   "metadata": {},
   "outputs": [
    {
     "name": "stdout",
     "output_type": "stream",
     "text": [
      "[[2, -3, 9], [3, 5, -6], [1, -7, 10]]\n",
      "[['x1', 'x2', 'x4'], ['x1', 'x2', 'x4'], ['x1', 'x2', 'x3']]\n",
      "[['>='], ['<='], ['<=']]\n",
      "[[4], [6], [1]]\n",
      "2*x1 -3*x2 +9*x4 >= 4\n",
      "3*x1 +5*x2 -6*x4 <= 6\n",
      "1*x1 -7*x2 +10*x3 <= 1\n",
      "2*x1 -3*x2 +9*x4 >= 4\n"
     ]
    }
   ],
   "source": [
    "print(coeff_tab)\n",
    "print(variables_tab)     \n",
    "\n",
    "print(signe_tab)\n",
    "print(const_tab)\n",
    "\n",
    "print(constraints)\n",
    "print(constraint_one_by_one[0])"
   ]
  },
  {
   "cell_type": "code",
   "execution_count": 189,
   "id": "604c3f24",
   "metadata": {},
   "outputs": [
    {
     "name": "stdout",
     "output_type": "stream",
     "text": [
      "<=\n",
      "A = \n",
      " [[ 2 -3  9]\n",
      " [ 3  5 -6]\n",
      " [ 1 -7 10]]\n",
      "nbr_sign =  3\n",
      "new_array =\n",
      " [[ 2. -3.  9.  0.  0.  0.]\n",
      " [ 3.  5. -6.  0.  0.  0.]\n",
      " [ 1. -7. 10.  0.  0.  0.]]\n",
      "0.0\n",
      ">=\n",
      "i =  0\n",
      "[ 2. -3.  9. -1.  0.  0.]\n",
      "<=\n",
      "i =  1\n",
      "[ 3.  5. -6.  0.  1.  0.]\n",
      "<=\n",
      "i =  2\n",
      "[ 1. -7. 10.  0.  0.  1.]\n",
      "new new_array = \n",
      " [[ 2. -3.  9. -1.  0.  0.]\n",
      " [ 3.  5. -6.  0.  1.  0.]\n",
      " [ 1. -7. 10.  0.  0.  1.]]\n"
     ]
    }
   ],
   "source": [
    "print(signe_tab[2][0])\n",
    "A = np.array(coeff_tab)\n",
    "print(\"A = \\n\",A)\n",
    "def count_sign(tab):\n",
    "    cpt=0\n",
    "    for sign in tab:\n",
    "        if sign[0] == '<=' or sign[0] == '>=' or sign[0] == '>' or sign[0] == '<':\n",
    "            cpt = cpt + 1\n",
    "    return cpt\n",
    "\n",
    "nbr_sign = count_sign(signe_tab)\n",
    "print(\"nbr_sign = \", nbr_sign)\n",
    "\n",
    "def add_zero(M, nbr_col):\n",
    "    number_rows = M.shape[0]\n",
    "    zero_array = np.zeros((number_rows, nbr_col))\n",
    "    new_array = np.hstack((M, zero_array))\n",
    "    return new_array\n",
    "\n",
    "new_arr = add_zero(A, nbr_sign)\n",
    "print(\"new_array =\\n\", new_arr)\n",
    "print(new_arr[0][-3])\n",
    "\n",
    "for a in enumerate(signe_tab):\n",
    "    print(a[1][0])\n",
    "    #i = signe_tab.index(a)\n",
    "    i = a[0]\n",
    "    print(\"i = \",i)\n",
    "    if a[1][0] == '<' or a[1][0] == '<=':\n",
    "        new_arr[i][-nbr_sign] = 1\n",
    "        nbr_sign -= 1\n",
    "    elif a[1][0] == '>' or a[1][0] == '>=':\n",
    "        new_arr[i][-nbr_sign] = -1\n",
    "        nbr_sign -= 1\n",
    "    print(new_arr[i])\n",
    "    \n",
    "print(\"new new_array = \\n\", new_arr)\n",
    "        "
   ]
  },
  {
   "cell_type": "raw",
   "id": "fdd51eff",
   "metadata": {},
   "source": []
  },
  {
   "cell_type": "code",
   "execution_count": null,
   "id": "d2d6f342",
   "metadata": {},
   "outputs": [],
   "source": []
  }
 ],
 "metadata": {
  "kernelspec": {
   "display_name": "Python 3 (ipykernel)",
   "language": "python",
   "name": "python3"
  },
  "language_info": {
   "codemirror_mode": {
    "name": "ipython",
    "version": 3
   },
   "file_extension": ".py",
   "mimetype": "text/x-python",
   "name": "python",
   "nbconvert_exporter": "python",
   "pygments_lexer": "ipython3",
   "version": "3.10.12"
  }
 },
 "nbformat": 4,
 "nbformat_minor": 5
}
