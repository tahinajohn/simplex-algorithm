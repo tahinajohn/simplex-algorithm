{
 "cells": [
  {
   "cell_type": "code",
   "execution_count": 98,
   "id": "9d6587a5",
   "metadata": {},
   "outputs": [
    {
     "name": "stdout",
     "output_type": "stream",
     "text": [
      "[2.]\n",
      "[4.]\n",
      "[5.]\n"
     ]
    },
    {
     "data": {
      "text/plain": [
       "4.0"
      ]
     },
     "execution_count": 98,
     "metadata": {},
     "output_type": "execute_result"
    }
   ],
   "source": [
    "import numpy as np\n",
    "\n",
    "B = np.array([[1,0,0],[0,1,0],[0,0,1]])\n",
    "N = np.array([[-3,2],[-1,2],[1,1]])\n",
    "\n",
    "B_inv = np.linalg.inv(B)\n",
    "\n",
    "CB = np.array([[0,0,0]])\n",
    "CN = np.array([[-1,-2]])\n",
    "\n",
    "b = np.array([[2],[4],[5]])\n",
    "\n",
    "b_barre = B_inv.dot(b)\n",
    "\n",
    "#b_barre\n",
    "#CN.shape\n",
    "#B_inv.shape\n",
    "pi = CB.dot(B_inv)\n",
    "pi.shape\n",
    "CN_barre = CN - pi.dot(N)\n",
    "CN_barre\n",
    "\n",
    "for elem in b_barre:\n",
    "    print(elem)\n",
    "\n",
    "b_barre[1][0]\n"
   ]
  },
  {
   "cell_type": "code",
   "execution_count": 138,
   "id": "08a893ff",
   "metadata": {},
   "outputs": [
    {
     "name": "stdout",
     "output_type": "stream",
     "text": [
      "{'i_line': 0, 'i_col': 1, 'elem': -2, 'is_pos': False}\n"
     ]
    },
    {
     "data": {
      "text/plain": [
       "1"
      ]
     },
     "execution_count": 138,
     "metadata": {},
     "output_type": "execute_result"
    }
   ],
   "source": [
    "def check_cn(A):\n",
    "    resp = True\n",
    "    i_line = 0\n",
    "    i_col = 0\n",
    "    elem = 0\n",
    "    elem_min = A[0][0]\n",
    "    for i_line,line in enumerate(A):\n",
    "        for i_elem,elem in enumerate(line):\n",
    "            if elem < 0 :\n",
    "                i_line = i_line\n",
    "                i_col = i_elem\n",
    "                elem = elem\n",
    "                resp = False\n",
    "                if elem < elem_min:\n",
    "                    elem_min = elem\n",
    "                \n",
    "    negative_element = {\n",
    "        \"i_line\": i_line,\n",
    "        \"i_col\": i_col,\n",
    "        \"elem\":elem_min,\n",
    "        \"is_pos\": resp\n",
    "    }\n",
    "    return negative_element\n",
    "\n",
    "print(check_cn(CN))\n",
    "indice_col = check_cn(CN)[\"i_col\"]\n",
    "indice_col\n"
   ]
  },
  {
   "cell_type": "code",
   "execution_count": null,
   "id": "765e9782",
   "metadata": {},
   "outputs": [],
   "source": []
  },
  {
   "cell_type": "code",
   "execution_count": 101,
   "id": "8cadae10",
   "metadata": {},
   "outputs": [
    {
     "data": {
      "text/plain": [
       "array([2., 2., 1.])"
      ]
     },
     "execution_count": 101,
     "metadata": {},
     "output_type": "execute_result"
    }
   ],
   "source": [
    "def As_col(A,s):\n",
    "    col = []\n",
    "    for elem in A:\n",
    "        col.append(elem[s])\n",
    "    return col\n",
    "\n",
    "As = As_col(N,1)\n",
    "As_barre = B_inv.dot(As)\n",
    "As_barre"
   ]
  },
  {
   "cell_type": "code",
   "execution_count": 102,
   "id": "956b2646",
   "metadata": {},
   "outputs": [
    {
     "data": {
      "text/plain": [
       "True"
      ]
     },
     "execution_count": 102,
     "metadata": {},
     "output_type": "execute_result"
    }
   ],
   "source": [
    "def check_As(As):\n",
    "    resp = True\n",
    "    for line in As:\n",
    "        if line < 0:\n",
    "            resp = False\n",
    "            break\n",
    "    return resp\n",
    "\n",
    "check_As(As_barre)"
   ]
  },
  {
   "cell_type": "code",
   "execution_count": 139,
   "id": "285cd8a3",
   "metadata": {},
   "outputs": [],
   "source": [
    "def calcul_xs(b, a):\n",
    "    xs_tab = []\n",
    "    for i in range(len(b)):\n",
    "        xs = b_barre[i][0] / As_barre[i]\n",
    "        xs_tab.append(xs)\n",
    "    \n",
    "    return xs_tab\n",
    "\n",
    "def min_xs(t):\n",
    "    indice = 0\n",
    "    elem_min = t[0]\n",
    "    for index, element in enumerate(t):\n",
    "        if (element < elem_min) and (element > 0):\n",
    "            elem_min = element\n",
    "            indice = index\n",
    "    \n",
    "    return {\n",
    "        \"indice\": indice,\n",
    "        \"elem_min\": elem_min\n",
    "    }\n"
   ]
  },
  {
   "cell_type": "code",
   "execution_count": 104,
   "id": "f4e7c905",
   "metadata": {},
   "outputs": [
    {
     "data": {
      "text/plain": [
       "array([[1, 2, 0],\n",
       "       [0, 2, 0],\n",
       "       [0, 1, 1]])"
      ]
     },
     "execution_count": 104,
     "metadata": {},
     "output_type": "execute_result"
    }
   ],
   "source": [
    "add_col = np.array(As)\n",
    "\n",
    "As_col = np.array(As)\n",
    "\n",
    "def at_col(M,indice):\n",
    "    at_col = []\n",
    "    for i in range(len(M)):\n",
    "        at_col.append(M[i][indice])\n",
    "    return at_col\n",
    "\n",
    "At_col = np.array(at_col(B,0))\n",
    "        \n",
    "B_d = np.delete(B, 1, axis=1)\n",
    "B_a = np.insert(B_d, 1, As_col, axis=1)\n",
    "B_a\n",
    "\n",
    "#def permute_col():\n",
    "    "
   ]
  },
  {
   "cell_type": "code",
   "execution_count": 152,
   "id": "68605788",
   "metadata": {},
   "outputs": [
    {
     "data": {
      "text/plain": [
       "array([[-3,  1],\n",
       "       [-1,  0],\n",
       "       [ 1,  0]])"
      ]
     },
     "execution_count": 152,
     "metadata": {},
     "output_type": "execute_result"
    }
   ],
   "source": [
    "def new_base(B, As,i):\n",
    "    As_col = np.array(As)\n",
    "    #At_col = np.array(at_col(B,i)) \n",
    "    B_d = np.delete(B, i, axis=1)\n",
    "    B_a = np.insert(B_d, i, As_col, axis=1)\n",
    "    return B_a\n",
    "    \n",
    "def new_N(B, N, i, indice_col):\n",
    "    #As_col = np.array(As)\n",
    "    At_col = np.array(at_col(B,i)) \n",
    "    N_d = np.delete(N, indice_col, axis=1)\n",
    "    N_a = np.insert(N_d, indice_col, At_col, axis=1)\n",
    "    return N_a\n",
    "\n",
    "#new_N = new_N(N, As, At_col, 0)\n",
    "x = calcul_xs(b_barre, As_barre)\n",
    "ind = min_xs(x)[\"indice\"]\n",
    "\n",
    "new_b = new_base(B, As, ind)\n",
    "new_n = new_N(B, N,ind, indice_col)\n",
    "new_n"
   ]
  },
  {
   "cell_type": "code",
   "execution_count": 172,
   "id": "8a4f98f7",
   "metadata": {},
   "outputs": [
    {
     "data": {
      "text/plain": [
       "array([[-2,  0,  0]])"
      ]
     },
     "execution_count": 172,
     "metadata": {},
     "output_type": "execute_result"
    }
   ],
   "source": [
    "def new_CN(cn, cb, s_cn, ind_cb):\n",
    "    cn_d = np.delete(cn, s_cn, axis=1)\n",
    "    c_a = np.insert(cn_d, s_cn, cb[0][ind_cb], axis=1)\n",
    "    return c_a\n",
    "\n",
    "def new_CB(cn, cb, s_cn, ind_cb):\n",
    "    cb_d = np.delete(cb, ind_cb, axis=1)\n",
    "    cb_a = np.insert(cb_d, ind_cb, cn[0][s_cn], axis=1)\n",
    "    return cb_a\n",
    "    \n",
    "n_cn = new_CN(CN, CB, 1, 0)\n",
    "n_cb = new_CB(CN, CB, 1, 0)\n",
    "n_cb"
   ]
  },
  {
   "cell_type": "code",
   "execution_count": 1,
   "id": "13932727",
   "metadata": {},
   "outputs": [
    {
     "data": {
      "text/plain": [
       "-2.0"
      ]
     },
     "execution_count": 1,
     "metadata": {},
     "output_type": "execute_result"
    }
   ],
   "source": [
    "2/-1\n"
   ]
  }
 ],
 "metadata": {
  "kernelspec": {
   "display_name": "Python 3 (ipykernel)",
   "language": "python",
   "name": "python3"
  },
  "language_info": {
   "codemirror_mode": {
    "name": "ipython",
    "version": 3
   },
   "file_extension": ".py",
   "mimetype": "text/x-python",
   "name": "python",
   "nbconvert_exporter": "python",
   "pygments_lexer": "ipython3",
   "version": "3.10.6"
  }
 },
 "nbformat": 4,
 "nbformat_minor": 5
}
