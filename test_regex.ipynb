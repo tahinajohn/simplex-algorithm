{
 "cells": [
  {
   "cell_type": "code",
   "execution_count": 24,
   "id": "5ee8d9f2",
   "metadata": {},
   "outputs": [],
   "source": [
    "import re\n",
    "import numpy as np\n",
    "\n",
    "target_function = \"3*x1 +4*x2\"\n",
    "constraint_functions = \"1*x1 +1*x2 <= 20\\n-1*x1 +4*x2 <= 20\\n1*x1 +0*x2 >= 10\\n0*x1 +1*x2 >= 5\"\n",
    "\n",
    "constraint_simple = \"x1 >= 0\\nx2 >= 0\"\n",
    "\n",
    "maximisation = True"
   ]
  },
  {
   "cell_type": "code",
   "execution_count": 25,
   "id": "954a623b",
   "metadata": {},
   "outputs": [],
   "source": [
    "def target_split(target_funct):\n",
    "    coeff_regex = r'([+-]?\\d+)\\s*\\*?\\s*([a-zA-Z0-9]+)\\s*'\n",
    "    signe_regex = r'([<>]=?|==)\\s*([+-]?\\d+)'\n",
    "    target_catcher = re.findall(coeff_regex, target_funct)\n",
    "    if maximisation:\n",
    "        target_coeff = [-int(match[0]) for match in target_catcher]\n",
    "    else:\n",
    "        target_coeff = [int(match[0]) for match in target_catcher]\n",
    "        \n",
    "    return target_coeff\n",
    "\n",
    "def variables(target_funct):\n",
    "    var_regex = r'([+-]?\\d+)\\s*\\*?\\s*([a-zA-Z0-9]+)\\s*'\n",
    "    variable_catcher = re.findall(var_regex, target_funct)\n",
    "    target_var = [match[1] for match in variable_catcher]\n",
    "    return target_var\n",
    "    "
   ]
  },
  {
   "cell_type": "code",
   "execution_count": 26,
   "id": "4f3e0c4c",
   "metadata": {},
   "outputs": [],
   "source": [
    "def constraint_split(constraints):\n",
    "    constraint_one_by_one = constraints.split('\\n')\n",
    "    coeff_regex = r'([+-]?\\d+)\\s*\\*?\\s*([a-zA-Z0-9]+)\\s*'\n",
    "    signe_regex = r'([<>]=?|==)\\s*([+-]?\\d+)'\n",
    "    coeff_tab = []\n",
    "    variables_tab = []\n",
    "    signe_tab = []\n",
    "    const_tab = []\n",
    "    \n",
    "    for constraint in constraint_one_by_one:\n",
    "        coeff_catcher = re.findall(coeff_regex, constraint)\n",
    "        signe_catcher = re.findall(signe_regex, constraint)\n",
    "        coefficients = [int(match[0]) for match in coeff_catcher]\n",
    "        variables = [match[1] for match in coeff_catcher]\n",
    "        coeff_tab.append(coefficients)\n",
    "        variables_tab.append(variables)\n",
    "        signe = [match[0] for match in signe_catcher]\n",
    "        #signe = signe_catcher[0]\n",
    "\n",
    "        constant = [int(match[1]) for match in signe_catcher]\n",
    "        signe_tab.append(signe)\n",
    "        const_tab.append(constant)\n",
    "        \n",
    "    output = {\n",
    "        \"coefficients\": coeff_tab,\n",
    "        \"variables\": variables_tab,\n",
    "        \"signes\": signe_tab,\n",
    "        \"constantes\": const_tab\n",
    "    }\n",
    "    return output\n",
    "    "
   ]
  },
  {
   "cell_type": "code",
   "execution_count": 27,
   "id": "604c3f24",
   "metadata": {},
   "outputs": [],
   "source": [
    "#print(signe_tab[2][0])\n",
    "#A = np.array(coeff_tab)\n",
    "#print(\"A = \\n\",A)\n",
    "\n",
    "def count_sign(tab):\n",
    "    cpt=0\n",
    "    for sign in tab:\n",
    "        if sign[0] == '<=' or sign[0] == '>=' or sign[0] == '>' or sign[0] == '<':\n",
    "            cpt = cpt + 1\n",
    "    return cpt\n",
    "\n",
    "def sign_number(constraints):\n",
    "    constraint = constraint_split(constraints)\n",
    "    nbr_sign = count_sign(constraint[\"signes\"])\n",
    "    \n",
    "    return nbr_sign\n",
    "\n",
    "def add_zero(M, nbr_col):\n",
    "    number_rows = M.shape[0]\n",
    "    zero_array = np.zeros((number_rows, nbr_col))\n",
    "    new_array = np.hstack((M, zero_array))\n",
    "    return new_array\n",
    "\n",
    "def constraint_standard_form(constraints):\n",
    "    constraint = constraint_split(constraints)\n",
    "    A = np.array(constraint[\"coefficients\"])\n",
    "    constantes = constraint[\"constantes\"]\n",
    "    variable = np.unique(constraint[\"variables\"])\n",
    "    nbr_sign = count_sign(constraint[\"signes\"])\n",
    "    \n",
    "    new_arr = add_zero(A, nbr_sign)\n",
    "    \n",
    "    for a in enumerate(constraint[\"signes\"]):\n",
    "        print(a[1][0])\n",
    "        #i = signe_tab.index(a)\n",
    "        i = a[0]\n",
    "        print(\"i = \",i)\n",
    "        if a[1][0] == '<' or a[1][0] == '<=':\n",
    "            new_arr[i][-nbr_sign] = 1\n",
    "            nbr_sign -= 1\n",
    "        elif a[1][0] == '>' or a[1][0] == '>=':\n",
    "            new_arr[i][-nbr_sign] = -1\n",
    "            nbr_sign -= 1\n",
    "        print(new_arr[i])\n",
    "\n",
    "    resp = {\n",
    "        \"matrix\": new_arr,\n",
    "        \"constantes\":constantes\n",
    "    }\n",
    "    \n",
    "    return resp\n",
    "        "
   ]
  },
  {
   "cell_type": "code",
   "execution_count": 28,
   "id": "dc1c992f",
   "metadata": {},
   "outputs": [],
   "source": [
    "def target_standard_form(target_funct, constraint):\n",
    "    nbr = sign_number(constraint)\n",
    "    target = target_split(target_funct)\n",
    "    target += [0] * nbr\n",
    "    \n",
    "    return target"
   ]
  },
  {
   "cell_type": "code",
   "execution_count": 29,
   "id": "56fbbde6",
   "metadata": {},
   "outputs": [
    {
     "ename": "ValueError",
     "evalue": "setting an array element with a sequence. The requested array has an inhomogeneous shape after 1 dimensions. The detected shape was (4,) + inhomogeneous part.",
     "output_type": "error",
     "traceback": [
      "\u001b[0;31m---------------------------------------------------------------------------\u001b[0m",
      "\u001b[0;31mValueError\u001b[0m                                Traceback (most recent call last)",
      "Cell \u001b[0;32mIn[29], line 2\u001b[0m\n\u001b[1;32m      1\u001b[0m t \u001b[38;5;241m=\u001b[39m target_standard_form(target_function, constraint_functions)\n\u001b[0;32m----> 2\u001b[0m c \u001b[38;5;241m=\u001b[39m \u001b[43mconstraint_standard_form\u001b[49m\u001b[43m(\u001b[49m\u001b[43mconstraint_functions\u001b[49m\u001b[43m)\u001b[49m\n\u001b[1;32m      3\u001b[0m c_matrix \u001b[38;5;241m=\u001b[39m c[\u001b[38;5;124m\"\u001b[39m\u001b[38;5;124mmatrix\u001b[39m\u001b[38;5;124m\"\u001b[39m]\n\u001b[1;32m      4\u001b[0m constantes \u001b[38;5;241m=\u001b[39m c[\u001b[38;5;124m\"\u001b[39m\u001b[38;5;124mconstantes\u001b[39m\u001b[38;5;124m\"\u001b[39m]\n",
      "Cell \u001b[0;32mIn[27], line 26\u001b[0m, in \u001b[0;36mconstraint_standard_form\u001b[0;34m(constraints)\u001b[0m\n\u001b[1;32m     24\u001b[0m \u001b[38;5;28;01mdef\u001b[39;00m \u001b[38;5;21mconstraint_standard_form\u001b[39m(constraints):\n\u001b[1;32m     25\u001b[0m     constraint \u001b[38;5;241m=\u001b[39m constraint_split(constraints)\n\u001b[0;32m---> 26\u001b[0m     A \u001b[38;5;241m=\u001b[39m \u001b[43mnp\u001b[49m\u001b[38;5;241;43m.\u001b[39;49m\u001b[43marray\u001b[49m\u001b[43m(\u001b[49m\u001b[43mconstraint\u001b[49m\u001b[43m[\u001b[49m\u001b[38;5;124;43m\"\u001b[39;49m\u001b[38;5;124;43mcoefficients\u001b[39;49m\u001b[38;5;124;43m\"\u001b[39;49m\u001b[43m]\u001b[49m\u001b[43m)\u001b[49m\n\u001b[1;32m     27\u001b[0m     constantes \u001b[38;5;241m=\u001b[39m constraint[\u001b[38;5;124m\"\u001b[39m\u001b[38;5;124mconstantes\u001b[39m\u001b[38;5;124m\"\u001b[39m]\n\u001b[1;32m     28\u001b[0m     variable \u001b[38;5;241m=\u001b[39m np\u001b[38;5;241m.\u001b[39munique(constraint[\u001b[38;5;124m\"\u001b[39m\u001b[38;5;124mvariables\u001b[39m\u001b[38;5;124m\"\u001b[39m])\n",
      "\u001b[0;31mValueError\u001b[0m: setting an array element with a sequence. The requested array has an inhomogeneous shape after 1 dimensions. The detected shape was (4,) + inhomogeneous part."
     ]
    }
   ],
   "source": [
    "t = target_standard_form(target_function, constraint_functions)\n",
    "c = constraint_standard_form(constraint_functions)\n",
    "c_matrix = c[\"matrix\"]\n",
    "constantes = c[\"constantes\"]\n",
    "v = variables(target_function)\n",
    "nbr_split = len(v)\n",
    "\n",
    "print(\"t = \\n\", t)\n",
    "print(\"c = \\n\", c_matrix)\n",
    "print(\"v = \\n\", v)\n",
    "print(\"nbr split = \", nbr_split)\n",
    "print(\"constantes = \\n\", constantes)\n",
    "print(\"HELLO WORLD\")"
   ]
  },
  {
   "cell_type": "code",
   "execution_count": 30,
   "id": "b4fbc810",
   "metadata": {},
   "outputs": [
    {
     "name": "stdout",
     "output_type": "stream",
     "text": [
      "CB = \n",
      " [-3 -4]\n",
      "CN = \n",
      " [0 0 0 0]\n",
      "Base = \n",
      " [[3. 4.]\n",
      " [2. 5.]]\n",
      "Hors Base = \n",
      " [[170.   1.   0.]\n",
      " [160.   0.   1.]]\n"
     ]
    }
   ],
   "source": [
    "def split_matrix(t,M):\n",
    "    nbr_split = M.shape[0]\n",
    "    \n",
    "    base, hors_base = np.split(M, [nbr_split], axis=1)\n",
    "    cb, cn = np.split(t, [nbr_split])  \n",
    "    \n",
    "    output = {\n",
    "        \"cb\":cb,\n",
    "        \"cn\":cn,\n",
    "        \"base\":base,\n",
    "        \"hors_base\":hors_base\n",
    "    }\n",
    "    \n",
    "    return output\n",
    "    \n",
    "simplex_matrix = split_matrix(t,c_matrix)\n",
    "\n",
    "print(\"CB = \\n\", simplex_matrix[\"cb\"])\n",
    "print(\"CN = \\n\", simplex_matrix[\"cn\"])\n",
    "print(\"Base = \\n\", simplex_matrix[\"base\"])\n",
    "print(\"Hors Base = \\n\", simplex_matrix[\"hors_base\"])"
   ]
  },
  {
   "cell_type": "code",
   "execution_count": 31,
   "id": "e71eefa0",
   "metadata": {},
   "outputs": [
    {
     "ename": "ImportError",
     "evalue": "cannot import name 'simplex' from 'main' (/home/tahina/Bureau/Mini-projets/simplex-algo/simplex-algorithm/main.py)",
     "output_type": "error",
     "traceback": [
      "\u001b[0;31m---------------------------------------------------------------------------\u001b[0m",
      "\u001b[0;31mImportError\u001b[0m                               Traceback (most recent call last)",
      "Cell \u001b[0;32mIn[31], line 1\u001b[0m\n\u001b[0;32m----> 1\u001b[0m \u001b[38;5;28;01mfrom\u001b[39;00m \u001b[38;5;21;01mmain\u001b[39;00m \u001b[38;5;28;01mimport\u001b[39;00m simplex\n\u001b[1;32m      3\u001b[0m k\u001b[38;5;241m=\u001b[39m\u001b[38;5;241m1\u001b[39m\n\u001b[1;32m      4\u001b[0m s \u001b[38;5;241m=\u001b[39m simplex(simplex_matrix[\u001b[38;5;124m\"\u001b[39m\u001b[38;5;124mbase\u001b[39m\u001b[38;5;124m\"\u001b[39m],simplex_matrix[\u001b[38;5;124m\"\u001b[39m\u001b[38;5;124mhors_base\u001b[39m\u001b[38;5;124m\"\u001b[39m],\n\u001b[1;32m      5\u001b[0m             np\u001b[38;5;241m.\u001b[39marray([simplex_matrix[\u001b[38;5;124m\"\u001b[39m\u001b[38;5;124mcb\u001b[39m\u001b[38;5;124m\"\u001b[39m]]),np\u001b[38;5;241m.\u001b[39marray([simplex_matrix[\u001b[38;5;124m\"\u001b[39m\u001b[38;5;124mcn\u001b[39m\u001b[38;5;124m\"\u001b[39m]]),\n\u001b[1;32m      6\u001b[0m            constantes, k)\n",
      "\u001b[0;31mImportError\u001b[0m: cannot import name 'simplex' from 'main' (/home/tahina/Bureau/Mini-projets/simplex-algo/simplex-algorithm/main.py)"
     ]
    }
   ],
   "source": [
    "from main import simplex\n",
    "\n",
    "k=1\n",
    "s = simplex(simplex_matrix[\"base\"],simplex_matrix[\"hors_base\"],\n",
    "            np.array([simplex_matrix[\"cb\"]]),np.array([simplex_matrix[\"cn\"]]),\n",
    "           constantes, k)\n",
    "\n",
    "print(\"s = \\n\", s)"
   ]
  },
  {
   "cell_type": "code",
   "execution_count": 17,
   "id": "b0446b9d",
   "metadata": {},
   "outputs": [
    {
     "data": {
      "text/plain": [
       "array([[-1, -2,  0]])"
      ]
     },
     "execution_count": 17,
     "metadata": {},
     "output_type": "execute_result"
    }
   ],
   "source": [
    "arr = [-1, -2, 0]\n",
    "np.array([arr])"
   ]
  },
  {
   "cell_type": "code",
   "execution_count": 18,
   "id": "804ad76c",
   "metadata": {},
   "outputs": [
    {
     "ename": "NameError",
     "evalue": "name 's' is not defined",
     "output_type": "error",
     "traceback": [
      "\u001b[0;31m---------------------------------------------------------------------------\u001b[0m",
      "\u001b[0;31mNameError\u001b[0m                                 Traceback (most recent call last)",
      "Cell \u001b[0;32mIn[18], line 7\u001b[0m\n\u001b[1;32m      4\u001b[0m         response_tab\u001b[38;5;241m.\u001b[39mappend(s[i][\u001b[38;5;241m0\u001b[39m])\n\u001b[1;32m      5\u001b[0m     \u001b[38;5;28;01mreturn\u001b[39;00m response_tab\n\u001b[0;32m----> 7\u001b[0m f \u001b[38;5;241m=\u001b[39m final_response(v, \u001b[43ms\u001b[49m)\n",
      "\u001b[0;31mNameError\u001b[0m: name 's' is not defined"
     ]
    }
   ],
   "source": [
    "def final_response(v, s): \n",
    "    response_tab = []\n",
    "    for i in range(len(v)):\n",
    "        response_tab.append(s[i][0])\n",
    "    return response_tab\n",
    "\n",
    "f = final_response(v, s)"
   ]
  },
  {
   "cell_type": "code",
   "execution_count": null,
   "id": "033ad768",
   "metadata": {},
   "outputs": [],
   "source": [
    "def solution_print(phr, v, response_tab):\n",
    "    for variable, resp in zip(v, response_tab):\n",
    "        phr = phr.replace(variable, str(resp))\n",
    "    \n",
    "    sol = \"phrase = \",phr,\"= \",eval(phr)\n",
    "    return sol\n",
    "\n",
    "s_p = solution_print(target_function, v, f)\n",
    "print(s_p)"
   ]
  },
  {
   "cell_type": "code",
   "execution_count": null,
   "id": "62b32a36",
   "metadata": {},
   "outputs": [],
   "source": [
    "const_s = constraint_simple.split('\\n')\n",
    "\n",
    "def check_constraint(c_s,v, resp):\n",
    "    for vari, resp in zip(v, resp):\n",
    "        c_s = c_s.replace(vari, str(resp))\n",
    "    return c_s\n",
    "\n",
    "c_s = check_constraint(constraint_simple, v, f)\n",
    "\n",
    "print(\"c_s = \", c_s)\n",
    "\n",
    "def check_c(tab):\n",
    "    tab_split = tab.split(\"\\n\")\n",
    "    check = True\n",
    "    for c in tab_split:\n",
    "        if not eval(c):\n",
    "            check = False\n",
    "            break\n",
    "    \n",
    "    return check\n",
    "\n",
    "ch_s = check_c(c_s)\n",
    "print(\"check = \", ch_s)"
   ]
  },
  {
   "cell_type": "code",
   "execution_count": 39,
   "id": "a1fed6dc",
   "metadata": {},
   "outputs": [
    {
     "name": "stdout",
     "output_type": "stream",
     "text": [
      "[[3.0, 4.0]]\n"
     ]
    }
   ],
   "source": [
    "ccc = \"0.3*x1 -0.4*x2 <= 1700\"\n",
    "coeff = r'([+-]?\\d+\\.*\\d*)\\*x\\d+'\n",
    "_tab = []\n",
    "\n",
    "catcher = re.findall(r'([+-]?\\d+)\\*x\\d+', ccc)\n",
    "coefficients = [float(match) for match in catcher]\n",
    "_tab.append(coefficients)\n",
    "    \n",
    "print(_tab)"
   ]
  },
  {
   "cell_type": "code",
   "execution_count": 47,
   "id": "889515a4",
   "metadata": {},
   "outputs": [
    {
     "name": "stdout",
     "output_type": "stream",
     "text": [
      "[-0.3, 0.4]\n"
     ]
    }
   ],
   "source": [
    "contrainte = \"-0.3*x1 +0.4*x2 <= 1700\"\n",
    "\n",
    "# Utilisez une expression régulière pour extraire les coefficients\n",
    "coefficients = re.findall(r'([+-]?\\d+\\.*\\d*)\\*x\\d+', contrainte)\n",
    "\n",
    "# Convertissez les résultats en nombres flottants\n",
    "coefficients = [float(coefficient) for coefficient in coefficients]\n",
    "\n",
    "print(coefficients)"
   ]
  }
 ],
 "metadata": {
  "kernelspec": {
   "display_name": "Python 3 (ipykernel)",
   "language": "python",
   "name": "python3"
  },
  "language_info": {
   "codemirror_mode": {
    "name": "ipython",
    "version": 3
   },
   "file_extension": ".py",
   "mimetype": "text/x-python",
   "name": "python",
   "nbconvert_exporter": "python",
   "pygments_lexer": "ipython3",
   "version": "3.10.12"
  }
 },
 "nbformat": 4,
 "nbformat_minor": 5
}
