{
 "cells": [
  {
   "cell_type": "code",
   "execution_count": 61,
   "id": "5ee8d9f2",
   "metadata": {},
   "outputs": [],
   "source": [
    "import re\n",
    "import numpy as np\n",
    "\n",
    "target_function = \"1*x1 +2*x2\"\n",
    "constraint_functions = \"-3*x1 +2*x2 <= 2\\n-1*x1 +2*x2 <= 4\\n1*x1 +1*x2<= 5\"\n",
    "\n",
    "constraint_simple = \"x1 >= 0\\nx2 >= 0\"\n",
    "\n",
    "maximisation = True"
   ]
  },
  {
   "cell_type": "code",
   "execution_count": 33,
   "id": "954a623b",
   "metadata": {},
   "outputs": [],
   "source": [
    "def target_split(target_funct):\n",
    "    coeff_regex = r'([+-]?\\d+)\\s*\\*?\\s*([a-zA-Z0-9]+)\\s*'\n",
    "    signe_regex = r'([<>]=?|==)\\s*([+-]?\\d+)'\n",
    "    target_catcher = re.findall(coeff_regex, target_funct)\n",
    "    if maximisation:\n",
    "        target_coeff = [-int(match[0]) for match in target_catcher]\n",
    "    else:\n",
    "        target_coeff = [int(match[0]) for match in target_catcher]\n",
    "        \n",
    "    return target_coeff\n",
    "\n",
    "def variables(target_funct):\n",
    "    var_regex = r'([+-]?\\d+)\\s*\\*?\\s*([a-zA-Z0-9]+)\\s*'\n",
    "    variable_catcher = re.findall(var_regex, target_funct)\n",
    "    target_var = [match[1] for match in variable_catcher]\n",
    "    return target_var\n",
    "    "
   ]
  },
  {
   "cell_type": "code",
   "execution_count": 34,
   "id": "4f3e0c4c",
   "metadata": {},
   "outputs": [],
   "source": [
    "def constraint_split(constraints):\n",
    "    constraint_one_by_one = constraints.split('\\n')\n",
    "    coeff_regex = r'([+-]?\\d+)\\s*\\*?\\s*([a-zA-Z0-9]+)\\s*'\n",
    "    signe_regex = r'([<>]=?|==)\\s*([+-]?\\d+)'\n",
    "    coeff_tab = []\n",
    "    variables_tab = []\n",
    "    signe_tab = []\n",
    "    const_tab = []\n",
    "    \n",
    "    for constraint in constraint_one_by_one:\n",
    "        coeff_catcher = re.findall(coeff_regex, constraint)\n",
    "        signe_catcher = re.findall(signe_regex, constraint)\n",
    "        coefficients = [int(match[0]) for match in coeff_catcher]\n",
    "        variables = [match[1] for match in coeff_catcher]\n",
    "        coeff_tab.append(coefficients)\n",
    "        variables_tab.append(variables)\n",
    "        signe = [match[0] for match in signe_catcher]\n",
    "        #signe = signe_catcher[0]\n",
    "\n",
    "        constant = [int(match[1]) for match in signe_catcher]\n",
    "        signe_tab.append(signe)\n",
    "        const_tab.append(constant)\n",
    "        \n",
    "    output = {\n",
    "        \"coefficients\": coeff_tab,\n",
    "        \"variables\": variables_tab,\n",
    "        \"signes\": signe_tab,\n",
    "        \"constantes\": const_tab\n",
    "    }\n",
    "    return output\n",
    "    "
   ]
  },
  {
   "cell_type": "code",
   "execution_count": 35,
   "id": "604c3f24",
   "metadata": {},
   "outputs": [],
   "source": [
    "#print(signe_tab[2][0])\n",
    "#A = np.array(coeff_tab)\n",
    "#print(\"A = \\n\",A)\n",
    "\n",
    "def count_sign(tab):\n",
    "    cpt=0\n",
    "    for sign in tab:\n",
    "        if sign[0] == '<=' or sign[0] == '>=' or sign[0] == '>' or sign[0] == '<':\n",
    "            cpt = cpt + 1\n",
    "    return cpt\n",
    "\n",
    "def sign_number(constraints):\n",
    "    constraint = constraint_split(constraints)\n",
    "    nbr_sign = count_sign(constraint[\"signes\"])\n",
    "    \n",
    "    return nbr_sign\n",
    "\n",
    "def add_zero(M, nbr_col):\n",
    "    number_rows = M.shape[0]\n",
    "    zero_array = np.zeros((number_rows, nbr_col))\n",
    "    new_array = np.hstack((M, zero_array))\n",
    "    return new_array\n",
    "\n",
    "def constraint_standard_form(constraints):\n",
    "    constraint = constraint_split(constraints)\n",
    "    A = np.array(constraint[\"coefficients\"])\n",
    "    constantes = constraint[\"constantes\"]\n",
    "    variable = np.unique(constraint[\"variables\"])\n",
    "    nbr_sign = count_sign(constraint[\"signes\"])\n",
    "    \n",
    "    new_arr = add_zero(A, nbr_sign)\n",
    "    \n",
    "    for a in enumerate(constraint[\"signes\"]):\n",
    "        print(a[1][0])\n",
    "        #i = signe_tab.index(a)\n",
    "        i = a[0]\n",
    "        print(\"i = \",i)\n",
    "        if a[1][0] == '<' or a[1][0] == '<=':\n",
    "            new_arr[i][-nbr_sign] = 1\n",
    "            nbr_sign -= 1\n",
    "        elif a[1][0] == '>' or a[1][0] == '>=':\n",
    "            new_arr[i][-nbr_sign] = -1\n",
    "            nbr_sign -= 1\n",
    "        print(new_arr[i])\n",
    "\n",
    "    resp = {\n",
    "        \"matrix\": new_arr,\n",
    "        \"constantes\":constantes\n",
    "    }\n",
    "    \n",
    "    return resp\n",
    "        "
   ]
  },
  {
   "cell_type": "code",
   "execution_count": 36,
   "id": "dc1c992f",
   "metadata": {},
   "outputs": [],
   "source": [
    "def target_standard_form(target_funct, constraint):\n",
    "    nbr = sign_number(constraint)\n",
    "    target = target_split(target_funct)\n",
    "    target += [0] * nbr\n",
    "    \n",
    "    return target"
   ]
  },
  {
   "cell_type": "code",
   "execution_count": 37,
   "id": "56fbbde6",
   "metadata": {},
   "outputs": [
    {
     "name": "stdout",
     "output_type": "stream",
     "text": [
      "<=\n",
      "i =  0\n",
      "[-3.  2.  1.  0.  0.]\n",
      "<=\n",
      "i =  1\n",
      "[-1.  2.  0.  1.  0.]\n",
      "<=\n",
      "i =  2\n",
      "[1. 1. 0. 0. 1.]\n",
      "t = \n",
      " [-1, -2, 0, 0, 0]\n",
      "c = \n",
      " [[-3.  2.  1.  0.  0.]\n",
      " [-1.  2.  0.  1.  0.]\n",
      " [ 1.  1.  0.  0.  1.]]\n",
      "v = \n",
      " ['x1', 'x2']\n",
      "nbr split =  2\n",
      "constantes = \n",
      " [[2], [4], [5]]\n",
      "HELLO WORLD\n"
     ]
    }
   ],
   "source": [
    "t = target_standard_form(target_function, constraint_functions)\n",
    "c = constraint_standard_form(constraint_functions)\n",
    "c_matrix = c[\"matrix\"]\n",
    "constantes = c[\"constantes\"]\n",
    "v = variables(target_function)\n",
    "nbr_split = len(v)\n",
    "\n",
    "print(\"t = \\n\", t)\n",
    "print(\"c = \\n\", c_matrix)\n",
    "print(\"v = \\n\", v)\n",
    "print(\"nbr split = \", nbr_split)\n",
    "print(\"constantes = \\n\", constantes)\n",
    "print(\"HELLO WORLD\")"
   ]
  },
  {
   "cell_type": "code",
   "execution_count": 38,
   "id": "b4fbc810",
   "metadata": {},
   "outputs": [
    {
     "name": "stdout",
     "output_type": "stream",
     "text": [
      "CB = \n",
      " [-1 -2  0]\n",
      "CN = \n",
      " [0 0]\n",
      "Base = \n",
      " [[-3.  2.  1.]\n",
      " [-1.  2.  0.]\n",
      " [ 1.  1.  0.]]\n",
      "Hors Base = \n",
      " [[0. 0.]\n",
      " [1. 0.]\n",
      " [0. 1.]]\n"
     ]
    }
   ],
   "source": [
    "def split_matrix(t,M):\n",
    "    nbr_split = M.shape[0]\n",
    "    \n",
    "    base, hors_base = np.split(M, [nbr_split], axis=1)\n",
    "    cb, cn = np.split(t, [nbr_split])  \n",
    "    \n",
    "    output = {\n",
    "        \"cb\":cb,\n",
    "        \"cn\":cn,\n",
    "        \"base\":base,\n",
    "        \"hors_base\":hors_base\n",
    "    }\n",
    "    \n",
    "    return output\n",
    "    \n",
    "simplex_matrix = split_matrix(t,c_matrix)\n",
    "\n",
    "print(\"CB = \\n\", simplex_matrix[\"cb\"])\n",
    "print(\"CN = \\n\", simplex_matrix[\"cn\"])\n",
    "print(\"Base = \\n\", simplex_matrix[\"base\"])\n",
    "print(\"Hors Base = \\n\", simplex_matrix[\"hors_base\"])"
   ]
  },
  {
   "cell_type": "code",
   "execution_count": 63,
   "id": "e71eefa0",
   "metadata": {},
   "outputs": [
    {
     "name": "stdout",
     "output_type": "stream",
     "text": [
      "--------------ENTER-------NEW--------\n",
      "k =  1\n",
      "Base = \n",
      " [[-3.  2.  1.]\n",
      " [-1.  2.  0.]\n",
      " [ 1.  1.  0.]]\n",
      "N = \n",
      " [[0. 0.]\n",
      " [1. 0.]\n",
      " [0. 1.]]\n",
      "CN =  [[0 0]]\n",
      "CB =  [[-1 -2  0]]\n",
      "B_barre = \n",
      " [[2.]\n",
      " [3.]\n",
      " [2.]]\n",
      "PI =  [[-5.18104078e-17 -3.33333333e-01 -1.33333333e+00]]\n",
      "CN barre =  [[0.33333333 1.33333333]]\n",
      "Check CN barre =  True\n",
      "B_barre solution = \n",
      " [[2.]\n",
      " [3.]\n",
      " [2.]]\n",
      "s = \n",
      " [[2.]\n",
      " [3.]\n",
      " [2.]]\n"
     ]
    }
   ],
   "source": [
    "from main import simplex\n",
    "\n",
    "k=1\n",
    "s = simplex(simplex_matrix[\"base\"],simplex_matrix[\"hors_base\"],\n",
    "            np.array([simplex_matrix[\"cb\"]]),np.array([simplex_matrix[\"cn\"]]),\n",
    "           constantes, k)\n",
    "\n",
    "print(\"s = \\n\", s)"
   ]
  },
  {
   "cell_type": "code",
   "execution_count": 40,
   "id": "b0446b9d",
   "metadata": {},
   "outputs": [
    {
     "data": {
      "text/plain": [
       "array([[-1, -2,  0]])"
      ]
     },
     "execution_count": 40,
     "metadata": {},
     "output_type": "execute_result"
    }
   ],
   "source": [
    "arr = [-1, -2, 0]\n",
    "np.array([arr])"
   ]
  },
  {
   "cell_type": "code",
   "execution_count": 41,
   "id": "804ad76c",
   "metadata": {},
   "outputs": [],
   "source": [
    "def final_response(v, s): \n",
    "    response_tab = []\n",
    "    for i in range(len(v)):\n",
    "        response_tab.append(s[i][0])\n",
    "    return response_tab\n",
    "\n",
    "f = final_response(v, s)"
   ]
  },
  {
   "cell_type": "code",
   "execution_count": 42,
   "id": "033ad768",
   "metadata": {},
   "outputs": [
    {
     "name": "stdout",
     "output_type": "stream",
     "text": [
      "('phrase = ', '1*2.0 +2*3.0', '= ', 8.0)\n"
     ]
    }
   ],
   "source": [
    "def solution_print(phr, v, response_tab):\n",
    "    for variable, resp in zip(v, response_tab):\n",
    "        phr = phr.replace(variable, str(resp))\n",
    "    \n",
    "    sol = \"phrase = \",phr,\"= \",eval(phr)\n",
    "    return sol\n",
    "\n",
    "s_p = solution_print(target_function, v, f)\n",
    "print(s_p)"
   ]
  },
  {
   "cell_type": "code",
   "execution_count": 62,
   "id": "62b32a36",
   "metadata": {},
   "outputs": [
    {
     "name": "stdout",
     "output_type": "stream",
     "text": [
      "c_s =  2.0 >= 0\n",
      "3.0 >= 0\n",
      "check =  True\n"
     ]
    }
   ],
   "source": [
    "const_s = constraint_simple.split('\\n')\n",
    "\n",
    "def check_constraint(c_s,v, resp):\n",
    "    for vari, resp in zip(v, resp):\n",
    "        c_s = c_s.replace(vari, str(resp))\n",
    "    return c_s\n",
    "\n",
    "c_s = check_constraint(constraint_simple, v, f)\n",
    "\n",
    "print(\"c_s = \", c_s)\n",
    "\n",
    "def check_c(tab):\n",
    "    tab_split = tab.split(\"\\n\")\n",
    "    check = True\n",
    "    for c in tab_split:\n",
    "        if not eval(c):\n",
    "            check = False\n",
    "            break\n",
    "    \n",
    "    return check\n",
    "\n",
    "ch_s = check_c(c_s)\n",
    "print(\"check = \", ch_s)"
   ]
  }
 ],
 "metadata": {
  "kernelspec": {
   "display_name": "Python 3 (ipykernel)",
   "language": "python",
   "name": "python3"
  },
  "language_info": {
   "codemirror_mode": {
    "name": "ipython",
    "version": 3
   },
   "file_extension": ".py",
   "mimetype": "text/x-python",
   "name": "python",
   "nbconvert_exporter": "python",
   "pygments_lexer": "ipython3",
   "version": "3.10.12"
  }
 },
 "nbformat": 4,
 "nbformat_minor": 5
}
